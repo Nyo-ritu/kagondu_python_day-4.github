{
 "cells": [
  {
   "cell_type": "markdown",
   "metadata": {},
   "source": [
    "# Object-Oriented-Programming (OOP)"
   ]
  },
  {
   "cell_type": "markdown",
   "metadata": {},
   "source": [
    "## Tasks Today:\n",
    "\n",
    "   \n",
    "\n",
    "1) <b>Creating a Class (Initializing/Declaring)</b> <br>\n",
    "2) <b>Using a Class (Instantiating)</b> <br>\n",
    " &nbsp;&nbsp;&nbsp;&nbsp; a) Creating One Instance <br>\n",
    " &nbsp;&nbsp;&nbsp;&nbsp; b) Creating Multiple Instances <br>\n",
    " &nbsp;&nbsp;&nbsp;&nbsp; c) In-Class Exercise #1 - Create a Class 'Car' and instantiate three different makes of cars <br>\n",
    "3) <b>The \\__init\\__() Method</b> <br>\n",
    " &nbsp;&nbsp;&nbsp;&nbsp; a) The 'self' Attribute <br>\n",
    "4) <b>Class Attributes</b> <br>\n",
    " &nbsp;&nbsp;&nbsp;&nbsp; a) Initializing Attributes <br>\n",
    " &nbsp;&nbsp;&nbsp;&nbsp; b) Setting an Attribute Outside of the \\__init\\__() Method <br>\n",
    " &nbsp;&nbsp;&nbsp;&nbsp; c) Setting Defaults for Attributes <br>\n",
    " &nbsp;&nbsp;&nbsp;&nbsp; d) Accessing Class Attributes <br>\n",
    " &nbsp;&nbsp;&nbsp;&nbsp; e) Changing Class Attributes <br>\n",
    " &nbsp;&nbsp;&nbsp;&nbsp; f) In-Class Exercise #2 - Add a color and wheels attribute to your 'Car' class <br>\n",
    "5) <b>Class Methods</b> <br>\n",
    " &nbsp;&nbsp;&nbsp;&nbsp; a) Creating <br>\n",
    " &nbsp;&nbsp;&nbsp;&nbsp; b) Calling <br>\n",
    " &nbsp;&nbsp;&nbsp;&nbsp; c) Modifying an Attribute's Value Through a Method <br>\n",
    " &nbsp;&nbsp;&nbsp;&nbsp; d) Incrementing an Attribute's Value Through a Method <br>\n",
    " &nbsp;&nbsp;&nbsp;&nbsp; e) In-Class Exercise #3 - Add a method that prints the cars color and wheel number, then call them <br>\n",
    "6) <b>Inheritance</b> <br>\n",
    " &nbsp;&nbsp;&nbsp;&nbsp; a) Syntax for Inheriting from a Parent Class <br>\n",
    " &nbsp;&nbsp;&nbsp;&nbsp; b) The \\__init\\__() Method for a Child Class (super()) <br>\n",
    " &nbsp;&nbsp;&nbsp;&nbsp; c) Defining Attributes and Methods for the Child Class <br>\n",
    " &nbsp;&nbsp;&nbsp;&nbsp; d) Method Overriding <br>\n",
    " &nbsp;&nbsp;&nbsp;&nbsp; e) In-Class Exercise #4 - Create a class 'Ford' that inherits from 'Car' class and initialize it as a Blue Ford Explorer with 4 wheels using the super() method <br>\n",
    "7) <b>Classes as Attributes</b> <br>\n",
    "8) <b>Exercises</b> <br>\n",
    " &nbsp;&nbsp;&nbsp;&nbsp; a) Exercise #1 - Turn the shopping cart program from yesterday into an object-oriented program <br>"
   ]
  },
  {
   "cell_type": "code",
   "execution_count": null,
   "metadata": {},
   "outputs": [],
   "source": [
    "#In Class Shopping Cart example"
   ]
  },
  {
   "cell_type": "code",
   "execution_count": null,
   "metadata": {},
   "outputs": [],
   "source": [
    "from IPython.display import clear_output\n",
    "\n",
    "cart = []\n",
    "\n",
    "# Adding Item to cart\n",
    "\n",
    "def addItem(item):\n",
    "    clear_output\n",
    "    cart.append(item)\n",
    "    \n",
    "    \n",
    "# Remove from cart\n",
    "def removeItem(item):\n",
    "    clear_output()\n",
    "    cart.remove(item)\n",
    "    \n",
    "addItem('banana')\n",
    "print(cart)\n",
    "removeItem('banana')\n",
    "print(cart)\n",
    "\n",
    "\n",
    "#Show Cart\n",
    "\n",
    "def showCart():\n",
    "    print(\"Here is your cart...\")\n",
    "    for item in cart:\n",
    "        print(item)\n",
    "\n",
    "# Clear Cart\n",
    "\n",
    "def clearCart():\n",
    "    print('Your cart is now empty')\n",
    "    cart.clear()\n",
    "\n",
    "addItem('banana')\n",
    "addItem('banana')\n",
    "addItem('banana')\n",
    "showCart()\n",
    "clearCart()\n",
    "showCart()\n",
    "\n",
    "\n",
    "#Program utilizing pre-built functionality\n",
    "\n",
    "def shoppingCart():\n",
    "    while True:\n",
    "        response = input(\"What would you like to do? Add /remove / show / clear your cart: \")\n",
    "        if response.lower() == 'quit':\n",
    "            print('Thanks for shopping with us')\n",
    "            showCart()\n",
    "            break\n",
    "        elif response.lower() == 'add':\n",
    "            item_resp = input('What would you like to add? ')\n",
    "            addItem(item_resp)\n",
    "        elif response.lower() == 'remove':\n",
    "            showCart()\n",
    "            remove_resp = input (\"What do you wanna remove? \")\n",
    "            removeItem(remove_resp)\n",
    "        elif response.lower() == 'show':\n",
    "            showCart()\n",
    "        elif response.lower() == \"clear\":\n",
    "            clearCart()\n",
    "        else:\n",
    "            print('Sorry not a valid response...')\n",
    "shoppingCart()\n",
    "        \n"
   ]
  },
  {
   "cell_type": "markdown",
   "metadata": {},
   "source": [
    "## Creating a Class (Initializing/Declaring)\n",
    "<p>When creating a class, function, or even a variable you are initializing that object. Initializing and Declaring occur at the same time in Python, whereas in lower level languages you have to declare an object before initializing it. This is the first step in the process of using a class.</p>"
   ]
  },
  {
   "cell_type": "code",
   "execution_count": null,
   "metadata": {},
   "outputs": [],
   "source": [
    "#class Car: or class Car():\n",
    "class Car:\n",
    "    wheels = 4\n",
    "    color = 'blue'"
   ]
  },
  {
   "cell_type": "markdown",
   "metadata": {},
   "source": [
    "## Using a Class (Instantiating)\n",
    "<p>The process of creating a class is called <i>Instantiating</i>. Each time you create a variable of that type of class, it is referred to as an <i>Instance</i> of that class. This is the second step in the process of using a class.</p>"
   ]
  },
  {
   "cell_type": "markdown",
   "metadata": {},
   "source": [
    "##### Creating One Instance"
   ]
  },
  {
   "cell_type": "code",
   "execution_count": null,
   "metadata": {},
   "outputs": [],
   "source": [
    "ford = Car()\n",
    "print(ford)\n",
    "\n",
    "print(ford.wheels)\n",
    "print(ford.color)\n",
    "\n"
   ]
  },
  {
   "cell_type": "markdown",
   "metadata": {},
   "source": [
    "##### Creating Multiple Instances"
   ]
  },
  {
   "cell_type": "code",
   "execution_count": null,
   "metadata": {},
   "outputs": [],
   "source": [
    "chevy = Car()\n",
    "honda = Car()\n",
    "lambo = Car()\n",
    "\n",
    "print(lambo.wheels)\n",
    "print(chevy.color)"
   ]
  },
  {
   "cell_type": "markdown",
   "metadata": {},
   "source": [
    "##### In-Class Exercise #1 - Create a Class 'Car' and Instantiate three different makes of cars"
   ]
  },
  {
   "cell_type": "code",
   "execution_count": null,
   "metadata": {},
   "outputs": [],
   "source": [
    "class Car:\n",
    "    doors = 4\n",
    "    color = 'red'\n",
    "    wheels = 4\n",
    "    sunroof = True\n",
    "    \n",
    "lexus = Car()\n",
    "kia = Car()\n",
    "buick = Car()\n",
    "mercedes = Car()\n",
    "\n",
    "print(lambo.wheels)\n",
    "print(buick.sunroof)\n",
    "print(lexus.color)\n",
    "print(mercedes)\n",
    "\n",
    "print(f'This car is {lambo.color} and has {lambo.wheels} wheels')"
   ]
  },
  {
   "cell_type": "markdown",
   "metadata": {},
   "source": [
    "## The \\__init\\__() Method <br>\n",
    "<p>This method is used in almost every created class, and called only once upon the creation of the class instance. This method will initialize all variables needed for the object.</p>"
   ]
  },
  {
   "cell_type": "code",
   "execution_count": null,
   "metadata": {},
   "outputs": [],
   "source": [
    "# 'dunder' or double underscore init double underscore (__init__())\n",
    "\n",
    "class Toy:\n",
    "    kind = \"Car\"\n",
    "    \n",
    "    def __init__(self, rooftop, horn, wheels):\n",
    "        self.rooftop = rooftop\n",
    "        self.horn = horn\n",
    "        self.wheels = wheels\n",
    "        \n",
    "hotwheels = Toy(1,1,4)\n",
    "tonka = Toy(3,3,18)\n",
    "\n",
    "hotwheels.rooftop\n",
    "tonka.wheels\n",
    "\n",
    "tonka.__dict__\n",
    "\n",
    "help(tonka)"
   ]
  },
  {
   "cell_type": "markdown",
   "metadata": {},
   "source": [
    "##### The 'self' Attribute <br>\n",
    "<p>This attribute is required to keep track of specific instance's attributes. Without the self attribute, the program would not know how to reference or keep track of an instance's attributes.</p>"
   ]
  },
  {
   "cell_type": "code",
   "execution_count": null,
   "metadata": {},
   "outputs": [],
   "source": [
    "# see above"
   ]
  },
  {
   "cell_type": "markdown",
   "metadata": {},
   "source": [
    "## Class Attributes <br>\n",
    "<p>While variables are inside of a class, they are referred to as attributes and not variables. When someone says 'attribute' you know they're speaking about a class. Attributes can be initialized through the init method, or outside of it.</p>"
   ]
  },
  {
   "cell_type": "markdown",
   "metadata": {},
   "source": [
    "##### Initializing Attributes"
   ]
  },
  {
   "cell_type": "code",
   "execution_count": null,
   "metadata": {},
   "outputs": [],
   "source": [
    "# see above"
   ]
  },
  {
   "cell_type": "markdown",
   "metadata": {},
   "source": [
    "##### Accessing Class Attributes"
   ]
  },
  {
   "cell_type": "code",
   "execution_count": null,
   "metadata": {
    "scrolled": true
   },
   "outputs": [],
   "source": [
    "tonka = Toy(1,1,4)\n",
    "\n",
    "tonka.rooftop\n"
   ]
  },
  {
   "cell_type": "markdown",
   "metadata": {},
   "source": [
    "##### Setting Defaults for Attributes"
   ]
  },
  {
   "cell_type": "code",
   "execution_count": null,
   "metadata": {},
   "outputs": [],
   "source": [
    "class Human:\n",
    "    def __init__(self, eyes, height, activity, hair=\"Brown\"):\n",
    "        self.eyes = eyes\n",
    "        self.height = height\n",
    "        self.activity = activity\n",
    "        self.hair = hair\n",
    "\n",
    "nate = Human('blue', '6ft 1in', True)\n",
    "             \n",
    "julia = Human( 'brown', \"5ft 19in\", True, \"black\")\n",
    "             \n",
    "nate.__dict__"
   ]
  },
  {
   "cell_type": "markdown",
   "metadata": {},
   "source": [
    "##### Changing Class Attributes <br>\n",
    "<p>Keep in mind there are global class attributes and then there are attributes only available to each class instance which won't effect other classes.</p>"
   ]
  },
  {
   "cell_type": "code",
   "execution_count": null,
   "metadata": {},
   "outputs": [],
   "source": [
    "print(f'Before attribute change: {julia.hair}')\n",
    "\n",
    "julia.hair = \"Blonde\"\n",
    "print(f'After attribute change: {julia.hair}')"
   ]
  },
  {
   "cell_type": "code",
   "execution_count": null,
   "metadata": {},
   "outputs": [],
   "source": [
    "\n"
   ]
  },
  {
   "cell_type": "markdown",
   "metadata": {},
   "source": [
    "##### In-Class Exercise #2 - Add a doors and seats attribute to your 'Car' class then print out two different instances with different doors and seats"
   ]
  },
  {
   "cell_type": "code",
   "execution_count": null,
   "metadata": {},
   "outputs": [],
   "source": [
    "class Car:\n",
    "    def __init__(self, doors, seats, seat_style = 'leather'):\n",
    "        self.doors = doors\n",
    "        self.seats = seats\n",
    "        self.seat_style = seat_style\n",
    "        \n",
    "    def printAttributes(self):\n",
    "        print(f'This car has {self.doors} doors and {self.seats} seats!')\n",
    "        \n",
    "\n",
    "maxda = Car('4', '5')\n",
    "bmw = Car('2','4')\n",
    "Mclaren =Car('2','1')\n",
    "\n",
    "maxda.seat_style\n",
    "bmw.doors\n",
    "Mclaren.__dict__\n",
    "\n",
    "bmw.printAttributes()"
   ]
  },
  {
   "cell_type": "markdown",
   "metadata": {},
   "source": [
    "## Class Methods <br>\n",
    "<p>While inside of a class, functions are referred to as 'methods'. If you hear someone mention methods, they're speaking about classes. Methods are essentially functions, but only callable on the instances of a class.</p>"
   ]
  },
  {
   "cell_type": "markdown",
   "metadata": {},
   "source": [
    "##### Creating"
   ]
  },
  {
   "cell_type": "code",
   "execution_count": null,
   "metadata": {},
   "outputs": [],
   "source": [
    "class ShoppingBag:\n",
    "    \"\"\"\n",
    "        The ShoppingBag class will have handles, capacity and items\n",
    "        to place inside.\n",
    "        \n",
    "        Attributes for class:\n",
    "        - handles: expected to be an integer\n",
    "        - capacity: expected to be a string or integer\n",
    "        - items: expected to be a list\n",
    "    \"\"\"\n",
    "\n",
    "    def __init__(self, handles, capacity, items):\n",
    "        self.handles = handles\n",
    "        self.capacity = capacity\n",
    "        self.items = items\n",
    "\n",
    "    # Method to show all items in items list\n",
    "    def showShoppingBag(self):\n",
    "        print(\"Here are the items in your bag....\")\n",
    "        for item in self.items:\n",
    "            print(item)\n",
    "            \n",
    "    def showCapacity(self):\n",
    "        print(f'Your current bag capacity is: {self.capacity}')\n",
    "        \n",
    "    \n",
    "    # Method to add items to bag\n",
    "    def addToShoppingBag(self):\n",
    "        product = input('What would you like to add? ')\n",
    "        self.items.append(product)\n",
    "        print (f'Success! Here is your new bag: {self.items}')\n",
    "        \n",
    "    \n",
    "    # Change capacity dynamically\n",
    "    def changeCapacity(self, capacity):\n",
    "        self.capacity = capacity\n",
    "        \n",
    "        \n",
    "    # increase capacity of bag by 10\n",
    "    def increaseCapacity(self, changed_cap = 10):\n",
    "        if isinstance(self.capacity, str):\n",
    "            print('Cannot do that here....')\n",
    "        else:\n",
    "            self.capacity += 10\n",
    "        \n",
    "\n",
    "pacsun = ShoppingBag(2,10,[])\n",
    "pacsun.showCapacity()\n",
    "\n",
    "pacsun.changeCapacity(25)\n",
    "\n",
    "pacsun.showCapacity()\n",
    "\n",
    "pacsun.increaseCapacity()\n",
    "pacsun.showCapacity()\n",
    "\n",
    "help(ShoppingBag)"
   ]
  },
  {
   "cell_type": "markdown",
   "metadata": {},
   "source": [
    "##### Calling"
   ]
  },
  {
   "cell_type": "code",
   "execution_count": null,
   "metadata": {},
   "outputs": [],
   "source": [
    "# See Above\n",
    "\n",
    "# Create a new instance of ShoppingBag\n",
    "whole_foods = ShoppingBag(2,10,[])\n",
    "\n",
    "def run():\n",
    "    whole_foods = ShoppingBag(2,10,[])\n",
    "    while True:\n",
    "        response = input('What do you want to do? Add / Show / quit ')\n",
    "        \n",
    "        if response.lower() == 'quit':\n",
    "            whole_foods.showShoppingBag()\n",
    "            print('Thanks for shopping at Wholefoods')\n",
    "            break\n",
    "        elif response.lower() == 'add':\n",
    "            whole_foods.addToShoppingBag()\n",
    "        \n",
    "        elif response.lower() == 'show':\n",
    "            whole_foods.showShoppingBag()\n",
    "        else:\n",
    "            print('Not a valid input - please retry')\n",
    "            \n",
    "run()"
   ]
  },
  {
   "cell_type": "markdown",
   "metadata": {},
   "source": [
    "##### Modifying an Attribute's Value Through a Method"
   ]
  },
  {
   "cell_type": "code",
   "execution_count": null,
   "metadata": {},
   "outputs": [],
   "source": [
    "mcdonalds = ShoppingBag(2,100,[])\n",
    "mcdonalds.showCapacity()\n",
    "mcdonalds.changeCapacity(50)\n",
    "mcdonalds.showCapacity()"
   ]
  },
  {
   "cell_type": "markdown",
   "metadata": {},
   "source": [
    "##### Incrementing an Attribute's Value Through a Method"
   ]
  },
  {
   "cell_type": "code",
   "execution_count": null,
   "metadata": {},
   "outputs": [],
   "source": [
    "mcdonalds.increaseCapacity()\n",
    "mcdonalds.showCapacity()"
   ]
  },
  {
   "cell_type": "markdown",
   "metadata": {},
   "source": [
    "##### In-Class Exercise #3 - Add a method that takes in three parameters of year, doors and seats and prints out a formatted print statement with make, model, year, seats, and doors"
   ]
  },
  {
   "cell_type": "code",
   "execution_count": null,
   "metadata": {},
   "outputs": [],
   "source": [
    "# Create class with 2 paramters inside of the __init__ which are make and model\n",
    "\n",
    "# Inside of the Car class create a method that has 4 parameter in total (self,year,door,seats)\n",
    "\n",
    "# Output: This car is from 2019 and is a Ford Expolorer and has 4 doors and 5 seats\n",
    "\n",
    "class Car:\n",
    "    \n",
    "    def __init__(self, make, model):\n",
    "        self.make = make\n",
    "        self.model = model\n",
    "    \n",
    "    def showCar(self, year, doors, seats):\n",
    "        print(f'your car is from {year} and is a {self.make} {self.model} and has {doors} doors and {seats} seats ')\n",
    "        \n",
    "bmw = Car('bmw', 'M5')\n",
    " \n",
    "bmw.showCar(2017, 4, 5)"
   ]
  },
  {
   "cell_type": "markdown",
   "metadata": {},
   "source": [
    "## Inheritance <br>\n",
    "<p>You can create a child-parent relationship between two classes by using inheritance. What this allows you to do is have overriding methods, but also inherit traits from the parent class. Think of it as an actual parent and child, the child will inherit the parent's genes, as will the classes in OOP</p>"
   ]
  },
  {
   "cell_type": "markdown",
   "metadata": {},
   "source": [
    "##### Syntax for Inheriting from a Parent Class"
   ]
  },
  {
   "cell_type": "code",
   "execution_count": null,
   "metadata": {},
   "outputs": [],
   "source": [
    "# Creation of our Parent Class - Animal\n",
    "\n",
    "class Animals:\n",
    "    def __init__(self, name, species, legs = 4):\n",
    "        self.name = name\n",
    "        self.species = species\n",
    "        self.legs = legs\n",
    "        \n",
    "    #Generic parent (animal method - no override yet)\n",
    "    def makeSound(self):\n",
    "        print('Make some generic sound')\n",
    "\n",
    "        \n",
    "#Child class\n",
    "class Dog(Animals):\n",
    "    speed = 15\n",
    "    \n",
    "    def printInfo(self):\n",
    "        print(f'This Dog has a speed of {self.speed} and his name is {self.name}')\n",
    "    \n",
    "    def makeSound(self):\n",
    "        noise = 'Bark'\n",
    "        print(noise)\n",
    "        \n",
    "        \n",
    "griffin = Dog('Griffin', 'Labrador Retriever')\n",
    "\n",
    "griffin.makeSound()\n",
    "\n",
    "griffin.__dict__\n",
    "\n",
    "griffin.printInfo()\n",
    "\n",
    "#Grandchild class\n",
    "class Mutt(Dog):\n",
    "    def __init__(self, name, species, eye_color, legs=4):\n",
    "        Dog.__init__(self, name, species, legs)\n",
    "        self.eye_color = eye_color\n",
    "        \n",
    "hank = Mutt('Hank', 'Mutt', 'Blue')\n",
    "hank.eye_color"
   ]
  },
  {
   "cell_type": "markdown",
   "metadata": {},
   "source": [
    "##### The \\__init\\__() Method for a Child Class - super()"
   ]
  },
  {
   "cell_type": "code",
   "execution_count": null,
   "metadata": {
    "scrolled": true
   },
   "outputs": [],
   "source": [
    "class Yorkie(Dog):\n",
    "    def __init__(self, name, species, eye_color, legs=4):\n",
    "        super().__init__(name, species, legs)\n",
    "        self.eye_color = eye_color\n",
    "        \n",
    "Austin = Yorkie('Austin', \"Yorkie\", 'brown', 3)\n",
    "\n",
    "Austin.makeSound()"
   ]
  },
  {
   "cell_type": "markdown",
   "metadata": {},
   "source": [
    "##### Defining Attributes and Methods for the Child Class"
   ]
  },
  {
   "cell_type": "code",
   "execution_count": null,
   "metadata": {},
   "outputs": [],
   "source": [
    "# See Above"
   ]
  },
  {
   "cell_type": "markdown",
   "metadata": {},
   "source": [
    "##### Method Overriding"
   ]
  },
  {
   "cell_type": "code",
   "execution_count": null,
   "metadata": {},
   "outputs": [],
   "source": [
    "# See Above"
   ]
  },
  {
   "cell_type": "markdown",
   "metadata": {},
   "source": [
    "## Classes as Attributes <br>\n",
    "<p>Classes can also be used as attributes within another class. This is useful in situations where you need to keep variables locally stored, instead of globally stored.</p>"
   ]
  },
  {
   "cell_type": "code",
   "execution_count": null,
   "metadata": {},
   "outputs": [],
   "source": [
    "class Battery:\n",
    "    volts = 7.8\n",
    "    \n",
    "    def __init__ (self, cells):\n",
    "        self.cells = cells\n",
    "        \n",
    "class Car: \n",
    "    def __init__(self, make, battery):\n",
    "        self.make = make\n",
    "        self.battery = battery\n",
    "        \n",
    "batt = Battery(16)\n",
    "\n",
    "\n",
    "tesla = Car('tesla', batt)\n",
    "\n",
    "tesla.make\n",
    "tesla.battery.cells"
   ]
  },
  {
   "cell_type": "markdown",
   "metadata": {},
   "source": [
    "# Exercises"
   ]
  },
  {
   "cell_type": "markdown",
   "metadata": {},
   "source": [
    "### Exercise 1 - Turn the shopping cart program from yesterday into an object-oriented program\n",
    "\n",
    "The comments in the cell below are there as a guide for thinking about the problem. However, if you feel a different way is best for you and your own thought process, please do what feels best for you by all means."
   ]
  },
  {
   "cell_type": "code",
   "execution_count": 26,
   "metadata": {},
   "outputs": [
    {
     "name": "stdout",
     "output_type": "stream",
     "text": [
      "What would you like to do? Add /remove / show: add\n",
      "What would you like to add? fruit\n"
     ]
    },
    {
     "ename": "NameError",
     "evalue": "name 'self' is not defined",
     "output_type": "error",
     "traceback": [
      "\u001b[1;31m---------------------------------------------------------------------------\u001b[0m",
      "\u001b[1;31mNameError\u001b[0m                                 Traceback (most recent call last)",
      "\u001b[1;32m<ipython-input-26-136a4835274f>\u001b[0m in \u001b[0;36m<module>\u001b[1;34m\u001b[0m\n\u001b[0;32m     56\u001b[0m \u001b[1;33m\u001b[0m\u001b[0m\n\u001b[0;32m     57\u001b[0m \u001b[0mShooper\u001b[0m \u001b[1;33m=\u001b[0m \u001b[0mCart\u001b[0m\u001b[1;33m(\u001b[0m\u001b[1;33m)\u001b[0m\u001b[1;33m\u001b[0m\u001b[1;33m\u001b[0m\u001b[0m\n\u001b[1;32m---> 58\u001b[1;33m \u001b[0mCart\u001b[0m\u001b[1;33m.\u001b[0m\u001b[0mshopping\u001b[0m\u001b[1;33m(\u001b[0m\u001b[1;34m'items'\u001b[0m\u001b[1;33m)\u001b[0m\u001b[1;33m\u001b[0m\u001b[1;33m\u001b[0m\u001b[0m\n\u001b[0m\u001b[0;32m     59\u001b[0m \u001b[1;33m\u001b[0m\u001b[0m\n\u001b[0;32m     60\u001b[0m \u001b[1;33m\u001b[0m\u001b[0m\n",
      "\u001b[1;32m<ipython-input-26-136a4835274f>\u001b[0m in \u001b[0;36mshopping\u001b[1;34m(items)\u001b[0m\n\u001b[0;32m     42\u001b[0m             \u001b[1;32melif\u001b[0m \u001b[0mrespon\u001b[0m\u001b[1;33m.\u001b[0m\u001b[0mlower\u001b[0m\u001b[1;33m(\u001b[0m\u001b[1;33m)\u001b[0m \u001b[1;33m==\u001b[0m \u001b[1;34m'add'\u001b[0m\u001b[1;33m:\u001b[0m\u001b[1;33m\u001b[0m\u001b[1;33m\u001b[0m\u001b[0m\n\u001b[0;32m     43\u001b[0m                 \u001b[0mitem_resp\u001b[0m \u001b[1;33m=\u001b[0m \u001b[0minput\u001b[0m\u001b[1;33m(\u001b[0m\u001b[1;34m'What would you like to add? '\u001b[0m\u001b[1;33m)\u001b[0m\u001b[1;33m\u001b[0m\u001b[1;33m\u001b[0m\u001b[0m\n\u001b[1;32m---> 44\u001b[1;33m                 \u001b[0mself\u001b[0m\u001b[1;33m.\u001b[0m\u001b[0mitems\u001b[0m\u001b[1;33m.\u001b[0m\u001b[0mappend\u001b[0m\u001b[1;33m(\u001b[0m\u001b[0mitem_resp\u001b[0m\u001b[1;33m)\u001b[0m\u001b[1;33m\u001b[0m\u001b[1;33m\u001b[0m\u001b[0m\n\u001b[0m\u001b[0;32m     45\u001b[0m                 \u001b[0maddToCart\u001b[0m\u001b[1;33m(\u001b[0m\u001b[0mitem_resp\u001b[0m\u001b[1;33m)\u001b[0m\u001b[1;33m\u001b[0m\u001b[1;33m\u001b[0m\u001b[0m\n\u001b[0;32m     46\u001b[0m             \u001b[1;32melif\u001b[0m \u001b[0mrespon\u001b[0m\u001b[1;33m.\u001b[0m\u001b[0mlower\u001b[0m\u001b[1;33m(\u001b[0m\u001b[1;33m)\u001b[0m \u001b[1;33m==\u001b[0m \u001b[1;34m'remove'\u001b[0m\u001b[1;33m:\u001b[0m\u001b[1;33m\u001b[0m\u001b[1;33m\u001b[0m\u001b[0m\n",
      "\u001b[1;31mNameError\u001b[0m: name 'self' is not defined"
     ]
    }
   ],
   "source": [
    "# Create a class called cart that retains items and has methods to add, remove, and show\n",
    "\n",
    "from IPython.display import clear_output\n",
    "\n",
    "class Cart:\n",
    "    \"\"\"\n",
    "        The Cart class will have items\n",
    "        to place inside.\n",
    "        \n",
    "        Attributes for class:\n",
    "        - items: (current items) - expected to be a list\n",
    "        \n",
    "        \"\"\"\n",
    "\n",
    "    def __init__(self, items=''):\n",
    "        self.items = items\n",
    "\n",
    "\n",
    "    # Method to show all items in items list\n",
    "    def showCart(self):\n",
    "        print(\"This is what is in your bag....\")\n",
    "        for item in self.items:\n",
    "            print(self)\n",
    "        \n",
    "    \n",
    "    # Method to add items to cart\n",
    "    def addToCart():\n",
    "        print (f'This is what is now in your bag: {self.items}')\n",
    "        \n",
    "        \n",
    "    # Method to remove items from cart\n",
    "    def removeItem(self):\n",
    "        remove_resp = input (\"What do you wanna remove? \")\n",
    "        self.items.remove(remove_resp)\n",
    "        \n",
    "    def shopping(items):\n",
    "        while True:\n",
    "            respon = input(\"What would you like to do? Add /remove / show: \")\n",
    "            if respon.lower() == 'quit':\n",
    "                print('Thanks for shopping with us')\n",
    "                break\n",
    "            elif respon.lower() == 'add':\n",
    "                item_resp = input('What would you like to add? ')\n",
    "                self.items.append(item_resp)\n",
    "                addToCart(item_resp)\n",
    "            elif respon.lower() == 'remove':\n",
    "                showCart()\n",
    "                removeItem()\n",
    "            elif respon.lower() == 'show':\n",
    "                showCart()\n",
    "            else:\n",
    "                print('Sorry not a valid response...')\n",
    "\n",
    "               \n",
    "\n",
    "            \n",
    "Shooper = Cart()            \n",
    "Cart.shopping('items')\n",
    "\n",
    "\n"
   ]
  },
  {
   "cell_type": "markdown",
   "metadata": {},
   "source": [
    "### Exercise 2 - Write a Python class which has two methods get_String and print_String. get_String accept a string from the user and print_String print the string in upper case"
   ]
  },
  {
   "cell_type": "code",
   "execution_count": null,
   "metadata": {},
   "outputs": [],
   "source": [
    "# 2 functions...\n",
    "\n",
    "class String():\n",
    "    def __init__(self, response=''):\n",
    "        self.response = response\n",
    "    \n",
    "    \n",
    "    def get_string(self):\n",
    "        self.response = input('Tell me something: ')\n",
    "    \n",
    "    \n",
    "    \n",
    "    \n",
    "    def print_string(self):\n",
    "        print(self.response.upper())\n",
    "    \n",
    "user = String()\n",
    "user.get_string()\n",
    "user.print_string()\n",
    "   \n",
    "\n"
   ]
  },
  {
   "cell_type": "code",
   "execution_count": null,
   "metadata": {},
   "outputs": [],
   "source": []
  },
  {
   "cell_type": "code",
   "execution_count": null,
   "metadata": {},
   "outputs": [],
   "source": []
  }
 ],
 "metadata": {
  "kernelspec": {
   "display_name": "Python 3",
   "language": "python",
   "name": "python3"
  },
  "language_info": {
   "codemirror_mode": {
    "name": "ipython",
    "version": 3
   },
   "file_extension": ".py",
   "mimetype": "text/x-python",
   "name": "python",
   "nbconvert_exporter": "python",
   "pygments_lexer": "ipython3",
   "version": "3.8.8"
  }
 },
 "nbformat": 4,
 "nbformat_minor": 2
}
